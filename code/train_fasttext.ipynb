{
 "cells": [
  {
   "cell_type": "code",
   "execution_count": 1,
   "metadata": {},
   "outputs": [],
   "source": [
    "import pyarrow.parquet as pq\n",
    "import pandas as pd\n",
    "from tqdm import tqdm\n",
    "import json\n",
    "from collections import Counter\n",
    "import numpy as np\n",
    "from collections import defaultdict"
   ]
  },
  {
   "cell_type": "code",
   "execution_count": 4,
   "metadata": {},
   "outputs": [
    {
     "data": {
      "text/html": [
       "<div>\n",
       "<style scoped>\n",
       "    .dataframe tbody tr th:only-of-type {\n",
       "        vertical-align: middle;\n",
       "    }\n",
       "\n",
       "    .dataframe tbody tr th {\n",
       "        vertical-align: top;\n",
       "    }\n",
       "\n",
       "    .dataframe thead th {\n",
       "        text-align: right;\n",
       "    }\n",
       "</style>\n",
       "<table border=\"1\" class=\"dataframe\">\n",
       "  <thead>\n",
       "    <tr style=\"text-align: right;\">\n",
       "      <th></th>\n",
       "      <th>text</th>\n",
       "      <th>timestamp</th>\n",
       "      <th>url</th>\n",
       "    </tr>\n",
       "  </thead>\n",
       "  <tbody>\n",
       "    <tr>\n",
       "      <th>0</th>\n",
       "      <td>`Met angst kun je verkiezingen winnen' - NRC\\n...</td>\n",
       "      <td>2018-06-20T06:08:26Z</td>\n",
       "      <td>https://www.nrc.nl/nieuws/2005/09/19/met-angst...</td>\n",
       "    </tr>\n",
       "    <tr>\n",
       "      <th>1</th>\n",
       "      <td>Steun van eurolanden voor verlichting Griekse ...</td>\n",
       "      <td>2017-10-19T06:38:18Z</td>\n",
       "      <td>https://www.nrc.nl/nieuws/2016/05/26/steun-van...</td>\n",
       "    </tr>\n",
       "    <tr>\n",
       "      <th>2</th>\n",
       "      <td>Kaassouflé van boerenkaas - NRC\\nKaassouflé va...</td>\n",
       "      <td>2017-08-23T12:18:14Z</td>\n",
       "      <td>https://www.nrc.nl/nieuws/2011/01/18/boerenkaa...</td>\n",
       "    </tr>\n",
       "    <tr>\n",
       "      <th>3</th>\n",
       "      <td>Junk van toen is dood of gestopt - NRC\\nJunk v...</td>\n",
       "      <td>2017-10-19T13:31:29Z</td>\n",
       "      <td>https://www.nrc.nl/nieuws/1997/10/21/junk-van-...</td>\n",
       "    </tr>\n",
       "    <tr>\n",
       "      <th>4</th>\n",
       "      <td>'Het was leuk om terug te vechten' - NRC\\nWout...</td>\n",
       "      <td>2019-11-20T13:17:01Z</td>\n",
       "      <td>https://www.nrc.nl/nieuws/2012/04/14/het-was-l...</td>\n",
       "    </tr>\n",
       "  </tbody>\n",
       "</table>\n",
       "</div>"
      ],
      "text/plain": [
       "                                                text             timestamp  \\\n",
       "0  `Met angst kun je verkiezingen winnen' - NRC\\n...  2018-06-20T06:08:26Z   \n",
       "1  Steun van eurolanden voor verlichting Griekse ...  2017-10-19T06:38:18Z   \n",
       "2  Kaassouflé van boerenkaas - NRC\\nKaassouflé va...  2017-08-23T12:18:14Z   \n",
       "3  Junk van toen is dood of gestopt - NRC\\nJunk v...  2017-10-19T13:31:29Z   \n",
       "4  'Het was leuk om terug te vechten' - NRC\\nWout...  2019-11-20T13:17:01Z   \n",
       "\n",
       "                                                 url  \n",
       "0  https://www.nrc.nl/nieuws/2005/09/19/met-angst...  \n",
       "1  https://www.nrc.nl/nieuws/2016/05/26/steun-van...  \n",
       "2  https://www.nrc.nl/nieuws/2011/01/18/boerenkaa...  \n",
       "3  https://www.nrc.nl/nieuws/1997/10/21/junk-van-...  \n",
       "4  https://www.nrc.nl/nieuws/2012/04/14/het-was-l...  "
      ]
     },
     "execution_count": 4,
     "metadata": {},
     "output_type": "execute_result"
    }
   ],
   "source": [
    "df_orig = pq.read_table('/Users/alielassche/downloads/nrc_all.parquet')\n",
    "df_orig = df_orig.to_pandas()\n",
    "df_orig.head()"
   ]
  },
  {
   "cell_type": "code",
   "execution_count": 5,
   "metadata": {},
   "outputs": [
    {
     "ename": "KeyboardInterrupt",
     "evalue": "",
     "output_type": "error",
     "traceback": [
      "\u001b[0;31m---------------------------------------------------------------------------\u001b[0m",
      "\u001b[0;31mKeyboardInterrupt\u001b[0m                         Traceback (most recent call last)",
      "\u001b[1;32m/Users/alielassche/Documents/GitHub/antonym-detection/code/train_fasttext.ipynb Cell 4\u001b[0m in \u001b[0;36m<cell line: 3>\u001b[0;34m()\u001b[0m\n\u001b[1;32m      <a href='vscode-notebook-cell:/Users/alielassche/Documents/GitHub/antonym-detection/code/train_fasttext.ipynb#W3sZmlsZQ%3D%3D?line=0'>1</a>\u001b[0m df_orig \u001b[39m=\u001b[39m df_orig[df_orig\u001b[39m.\u001b[39murl\u001b[39m.\u001b[39mstr\u001b[39m.\u001b[39msplit(\u001b[39m'\u001b[39m\u001b[39m/\u001b[39m\u001b[39m'\u001b[39m)\u001b[39m.\u001b[39mstr[\u001b[39m3\u001b[39m] \u001b[39m==\u001b[39m \u001b[39m'\u001b[39m\u001b[39mnieuws\u001b[39m\u001b[39m'\u001b[39m] \u001b[39m# filter out ads, job postings etc.\u001b[39;00m\n\u001b[1;32m      <a href='vscode-notebook-cell:/Users/alielassche/Documents/GitHub/antonym-detection/code/train_fasttext.ipynb#W3sZmlsZQ%3D%3D?line=1'>2</a>\u001b[0m df_orig \u001b[39m=\u001b[39m df_orig[\u001b[39m~\u001b[39mdf_orig\u001b[39m.\u001b[39mtext\u001b[39m.\u001b[39mstr\u001b[39m.\u001b[39mstartswith(\u001b[39m'\u001b[39m\u001b[39mHet nieuws van\u001b[39m\u001b[39m'\u001b[39m)] \u001b[39m# remove index pages\u001b[39;00m\n\u001b[0;32m----> <a href='vscode-notebook-cell:/Users/alielassche/Documents/GitHub/antonym-detection/code/train_fasttext.ipynb#W3sZmlsZQ%3D%3D?line=2'>3</a>\u001b[0m df_orig[\u001b[39m'\u001b[39m\u001b[39mtext\u001b[39m\u001b[39m'\u001b[39m] \u001b[39m=\u001b[39m df_orig[\u001b[39m'\u001b[39;49m\u001b[39mtext\u001b[39;49m\u001b[39m'\u001b[39;49m]\u001b[39m.\u001b[39;49mstr\u001b[39m.\u001b[39;49msplit(\u001b[39m'\u001b[39;49m\u001b[39m\\n\u001b[39;49;00m\u001b[39m'\u001b[39;49m)\u001b[39m.\u001b[39;49mstr[\u001b[39m1\u001b[39;49m:]\u001b[39m.\u001b[39mstr\u001b[39m.\u001b[39mjoin(\u001b[39m'\u001b[39m\u001b[39m \u001b[39m\u001b[39m'\u001b[39m) \u001b[39m# remove first line = article title\u001b[39;00m\n\u001b[1;32m      <a href='vscode-notebook-cell:/Users/alielassche/Documents/GitHub/antonym-detection/code/train_fasttext.ipynb#W3sZmlsZQ%3D%3D?line=3'>4</a>\u001b[0m df_orig \u001b[39m=\u001b[39m df_orig[df_orig\u001b[39m.\u001b[39murl\u001b[39m.\u001b[39mstr\u001b[39m.\u001b[39msplit(\u001b[39m'\u001b[39m\u001b[39m-\u001b[39m\u001b[39m'\u001b[39m)\u001b[39m.\u001b[39mstr[\u001b[39m-\u001b[39m\u001b[39m1\u001b[39m]\u001b[39m.\u001b[39mstr[\u001b[39m0\u001b[39m] \u001b[39m==\u001b[39m \u001b[39m'\u001b[39m\u001b[39ma\u001b[39m\u001b[39m'\u001b[39m]\n",
      "File \u001b[0;32m~/opt/anaconda3/lib/python3.9/site-packages/pandas/core/strings/accessor.py:235\u001b[0m, in \u001b[0;36mStringMethods.__getitem__\u001b[0;34m(self, key)\u001b[0m\n\u001b[1;32m    234\u001b[0m \u001b[39mdef\u001b[39;00m \u001b[39m__getitem__\u001b[39m(\u001b[39mself\u001b[39m, key):\n\u001b[0;32m--> 235\u001b[0m     result \u001b[39m=\u001b[39m \u001b[39mself\u001b[39;49m\u001b[39m.\u001b[39;49m_data\u001b[39m.\u001b[39;49marray\u001b[39m.\u001b[39;49m_str_getitem(key)\n\u001b[1;32m    236\u001b[0m     \u001b[39mreturn\u001b[39;00m \u001b[39mself\u001b[39m\u001b[39m.\u001b[39m_wrap_result(result)\n",
      "File \u001b[0;32m~/opt/anaconda3/lib/python3.9/site-packages/pandas/core/strings/base.py:34\u001b[0m, in \u001b[0;36mBaseStringArrayMethods._str_getitem\u001b[0;34m(self, key)\u001b[0m\n\u001b[1;32m     32\u001b[0m \u001b[39mdef\u001b[39;00m \u001b[39m_str_getitem\u001b[39m(\u001b[39mself\u001b[39m, key):\n\u001b[1;32m     33\u001b[0m     \u001b[39mif\u001b[39;00m \u001b[39misinstance\u001b[39m(key, \u001b[39mslice\u001b[39m):\n\u001b[0;32m---> 34\u001b[0m         \u001b[39mreturn\u001b[39;00m \u001b[39mself\u001b[39;49m\u001b[39m.\u001b[39;49m_str_slice(start\u001b[39m=\u001b[39;49mkey\u001b[39m.\u001b[39;49mstart, stop\u001b[39m=\u001b[39;49mkey\u001b[39m.\u001b[39;49mstop, step\u001b[39m=\u001b[39;49mkey\u001b[39m.\u001b[39;49mstep)\n\u001b[1;32m     35\u001b[0m     \u001b[39melse\u001b[39;00m:\n\u001b[1;32m     36\u001b[0m         \u001b[39mreturn\u001b[39;00m \u001b[39mself\u001b[39m\u001b[39m.\u001b[39m_str_get(key)\n",
      "File \u001b[0;32m~/opt/anaconda3/lib/python3.9/site-packages/pandas/core/strings/object_array.py:288\u001b[0m, in \u001b[0;36mObjectStringArrayMixin._str_slice\u001b[0;34m(self, start, stop, step)\u001b[0m\n\u001b[1;32m    286\u001b[0m \u001b[39mdef\u001b[39;00m \u001b[39m_str_slice\u001b[39m(\u001b[39mself\u001b[39m, start\u001b[39m=\u001b[39m\u001b[39mNone\u001b[39;00m, stop\u001b[39m=\u001b[39m\u001b[39mNone\u001b[39;00m, step\u001b[39m=\u001b[39m\u001b[39mNone\u001b[39;00m):\n\u001b[1;32m    287\u001b[0m     obj \u001b[39m=\u001b[39m \u001b[39mslice\u001b[39m(start, stop, step)\n\u001b[0;32m--> 288\u001b[0m     \u001b[39mreturn\u001b[39;00m \u001b[39mself\u001b[39;49m\u001b[39m.\u001b[39;49m_str_map(\u001b[39mlambda\u001b[39;49;00m x: x[obj])\n",
      "File \u001b[0;32m~/opt/anaconda3/lib/python3.9/site-packages/pandas/core/strings/object_array.py:71\u001b[0m, in \u001b[0;36mObjectStringArrayMixin._str_map\u001b[0;34m(self, f, na_value, dtype, convert)\u001b[0m\n\u001b[1;32m     69\u001b[0m map_convert \u001b[39m=\u001b[39m convert \u001b[39mand\u001b[39;00m \u001b[39mnot\u001b[39;00m np\u001b[39m.\u001b[39mall(mask)\n\u001b[1;32m     70\u001b[0m \u001b[39mtry\u001b[39;00m:\n\u001b[0;32m---> 71\u001b[0m     result \u001b[39m=\u001b[39m lib\u001b[39m.\u001b[39;49mmap_infer_mask(arr, f, mask\u001b[39m.\u001b[39;49mview(np\u001b[39m.\u001b[39;49muint8), map_convert)\n\u001b[1;32m     72\u001b[0m \u001b[39mexcept\u001b[39;00m (\u001b[39mTypeError\u001b[39;00m, \u001b[39mAttributeError\u001b[39;00m) \u001b[39mas\u001b[39;00m err:\n\u001b[1;32m     73\u001b[0m     \u001b[39m# Reraise the exception if callable `f` got wrong number of args.\u001b[39;00m\n\u001b[1;32m     74\u001b[0m     \u001b[39m# The user may want to be warned by this, instead of getting NaN\u001b[39;00m\n\u001b[1;32m     75\u001b[0m     p_err \u001b[39m=\u001b[39m (\n\u001b[1;32m     76\u001b[0m         \u001b[39mr\u001b[39m\u001b[39m\"\u001b[39m\u001b[39m((takes)|(missing)) (?(2)from \u001b[39m\u001b[39m\\\u001b[39m\u001b[39md+ to )?\u001b[39m\u001b[39m\\\u001b[39m\u001b[39md+ \u001b[39m\u001b[39m\"\u001b[39m\n\u001b[1;32m     77\u001b[0m         \u001b[39mr\u001b[39m\u001b[39m\"\u001b[39m\u001b[39m(?(3)required )positional arguments?\u001b[39m\u001b[39m\"\u001b[39m\n\u001b[1;32m     78\u001b[0m     )\n",
      "File \u001b[0;32m~/opt/anaconda3/lib/python3.9/site-packages/pandas/_libs/lib.pyx:2822\u001b[0m, in \u001b[0;36mpandas._libs.lib.map_infer_mask\u001b[0;34m()\u001b[0m\n",
      "File \u001b[0;32m~/opt/anaconda3/lib/python3.9/site-packages/pandas/core/strings/object_array.py:288\u001b[0m, in \u001b[0;36mObjectStringArrayMixin._str_slice.<locals>.<lambda>\u001b[0;34m(x)\u001b[0m\n\u001b[1;32m    286\u001b[0m \u001b[39mdef\u001b[39;00m \u001b[39m_str_slice\u001b[39m(\u001b[39mself\u001b[39m, start\u001b[39m=\u001b[39m\u001b[39mNone\u001b[39;00m, stop\u001b[39m=\u001b[39m\u001b[39mNone\u001b[39;00m, step\u001b[39m=\u001b[39m\u001b[39mNone\u001b[39;00m):\n\u001b[1;32m    287\u001b[0m     obj \u001b[39m=\u001b[39m \u001b[39mslice\u001b[39m(start, stop, step)\n\u001b[0;32m--> 288\u001b[0m     \u001b[39mreturn\u001b[39;00m \u001b[39mself\u001b[39m\u001b[39m.\u001b[39m_str_map(\u001b[39mlambda\u001b[39;00m x: x[obj])\n",
      "\u001b[0;31mKeyboardInterrupt\u001b[0m: "
     ]
    }
   ],
   "source": [
    "df_orig = df_orig[df_orig.url.str.split('/').str[3] == 'nieuws'] # filter out ads, job postings etc.\n",
    "df_orig = df_orig[~df_orig.text.str.startswith('Het nieuws van')] # remove index pages\n",
    "df_orig['text'] = df_orig['text'].str.split('\\n').str[1:].str.join(' ') # remove first line = article title\n",
    "df_orig = df_orig[df_orig.url.str.split('-').str[-1].str[0] == 'a'] # remove weird articles (that don't have this particular a... id)\n"
   ]
  },
  {
   "cell_type": "code",
   "execution_count": null,
   "metadata": {},
   "outputs": [],
   "source": []
  }
 ],
 "metadata": {
  "kernelspec": {
   "display_name": "base",
   "language": "python",
   "name": "python3"
  },
  "language_info": {
   "codemirror_mode": {
    "name": "ipython",
    "version": 3
   },
   "file_extension": ".py",
   "mimetype": "text/x-python",
   "name": "python",
   "nbconvert_exporter": "python",
   "pygments_lexer": "ipython3",
   "version": "3.9.13"
  },
  "orig_nbformat": 4
 },
 "nbformat": 4,
 "nbformat_minor": 2
}
